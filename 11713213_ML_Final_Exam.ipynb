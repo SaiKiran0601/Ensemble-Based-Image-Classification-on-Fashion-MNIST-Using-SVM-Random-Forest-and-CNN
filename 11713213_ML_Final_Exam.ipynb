{
  "cells": [
    {
      "cell_type": "markdown",
      "source": [
        "**Venkata Sri Satya Sai Kiran Ayyagari - 11713213**"
      ],
      "metadata": {
        "id": "Ilr5bzNcyR88"
      }
    },
    {
      "cell_type": "markdown",
      "metadata": {
        "id": "4zT-ks3FgmFo"
      },
      "source": [
        "**Step - 1 - Preprocessing**"
      ]
    },
    {
      "cell_type": "code",
      "execution_count": 2,
      "metadata": {
        "id": "9ItNONNDYRWJ",
        "colab": {
          "base_uri": "https://localhost:8080/"
        },
        "outputId": "78a30ccd-d6c1-4299-81af-61a93b10a8d8"
      },
      "outputs": [
        {
          "output_type": "stream",
          "name": "stdout",
          "text": [
            "Downloading data from https://storage.googleapis.com/tensorflow/tf-keras-datasets/train-labels-idx1-ubyte.gz\n",
            "\u001b[1m29515/29515\u001b[0m \u001b[32m━━━━━━━━━━━━━━━━━━━━\u001b[0m\u001b[37m\u001b[0m \u001b[1m0s\u001b[0m 0us/step\n",
            "Downloading data from https://storage.googleapis.com/tensorflow/tf-keras-datasets/train-images-idx3-ubyte.gz\n",
            "\u001b[1m26421880/26421880\u001b[0m \u001b[32m━━━━━━━━━━━━━━━━━━━━\u001b[0m\u001b[37m\u001b[0m \u001b[1m1s\u001b[0m 0us/step\n",
            "Downloading data from https://storage.googleapis.com/tensorflow/tf-keras-datasets/t10k-labels-idx1-ubyte.gz\n",
            "\u001b[1m5148/5148\u001b[0m \u001b[32m━━━━━━━━━━━━━━━━━━━━\u001b[0m\u001b[37m\u001b[0m \u001b[1m0s\u001b[0m 0us/step\n",
            "Downloading data from https://storage.googleapis.com/tensorflow/tf-keras-datasets/t10k-images-idx3-ubyte.gz\n",
            "\u001b[1m4422102/4422102\u001b[0m \u001b[32m━━━━━━━━━━━━━━━━━━━━\u001b[0m\u001b[37m\u001b[0m \u001b[1m0s\u001b[0m 0us/step\n"
          ]
        }
      ],
      "source": [
        "import numpy as sk\n",
        "import tensorflow as sktf\n",
        "from tensorflow.keras.datasets import fashion_mnist\n",
        "from sklearn.model_selection import train_test_split\n",
        "from sklearn.preprocessing import StandardScaler\n",
        "from sklearn.utils import shuffle\n",
        "(x_train,y_train),(x_test,y_test)=fashion_mnist.load_data()\n",
        "skx_data=sk.concatenate((x_train,x_test))\n",
        "sky_data=sk.concatenate((y_train,y_test))\n",
        "skx_data=skx_data.astype('float32')/255.0\n",
        "skx_data=skx_data.reshape(-1,28,28,1)\n",
        "skx_data,sky_data=shuffle(skx_data,sky_data,random_state=42)\n",
        "X_train,X_test,y_train,y_test=train_test_split(skx_data,sky_data,test_size=0.3,random_state=42)"
      ]
    },
    {
      "cell_type": "markdown",
      "metadata": {
        "id": "AxE1PMGqgqKs"
      },
      "source": [
        "**Step - 2 - Models**"
      ]
    },
    {
      "cell_type": "code",
      "execution_count": null,
      "metadata": {
        "colab": {
          "base_uri": "https://localhost:8080/"
        },
        "id": "8Pzr6swsgiaP",
        "outputId": "b2cccad3-2b08-48f1-d210-45e4866d8c85"
      },
      "outputs": [
        {
          "output_type": "stream",
          "name": "stderr",
          "text": [
            "/usr/local/lib/python3.11/dist-packages/keras/src/layers/convolutional/base_conv.py:107: UserWarning: Do not pass an `input_shape`/`input_dim` argument to a layer. When using Sequential models, prefer using an `Input(shape)` object as the first layer in the model instead.\n",
            "  super().__init__(activity_regularizer=activity_regularizer, **kwargs)\n"
          ]
        },
        {
          "output_type": "stream",
          "name": "stdout",
          "text": [
            "Epoch 1/10\n",
            "\u001b[1m613/613\u001b[0m \u001b[32m━━━━━━━━━━━━━━━━━━━━\u001b[0m\u001b[37m\u001b[0m \u001b[1m40s\u001b[0m 62ms/step - accuracy: 0.7129 - loss: 0.8110 - val_accuracy: 0.8661 - val_loss: 0.3774\n",
            "Epoch 2/10\n",
            "\u001b[1m613/613\u001b[0m \u001b[32m━━━━━━━━━━━━━━━━━━━━\u001b[0m\u001b[37m\u001b[0m \u001b[1m33s\u001b[0m 54ms/step - accuracy: 0.8651 - loss: 0.3760 - val_accuracy: 0.8789 - val_loss: 0.3305\n",
            "Epoch 3/10\n",
            "\u001b[1m613/613\u001b[0m \u001b[32m━━━━━━━━━━━━━━━━━━━━\u001b[0m\u001b[37m\u001b[0m \u001b[1m42s\u001b[0m 55ms/step - accuracy: 0.8835 - loss: 0.3173 - val_accuracy: 0.8871 - val_loss: 0.3074\n",
            "Epoch 4/10\n",
            "\u001b[1m613/613\u001b[0m \u001b[32m━━━━━━━━━━━━━━━━━━━━\u001b[0m\u001b[37m\u001b[0m \u001b[1m41s\u001b[0m 55ms/step - accuracy: 0.8949 - loss: 0.2864 - val_accuracy: 0.8918 - val_loss: 0.2893\n",
            "Epoch 5/10\n",
            "\u001b[1m613/613\u001b[0m \u001b[32m━━━━━━━━━━━━━━━━━━━━\u001b[0m\u001b[37m\u001b[0m \u001b[1m40s\u001b[0m 54ms/step - accuracy: 0.9045 - loss: 0.2601 - val_accuracy: 0.8981 - val_loss: 0.2813\n",
            "Epoch 6/10\n",
            "\u001b[1m613/613\u001b[0m \u001b[32m━━━━━━━━━━━━━━━━━━━━\u001b[0m\u001b[37m\u001b[0m \u001b[1m40s\u001b[0m 53ms/step - accuracy: 0.9176 - loss: 0.2321 - val_accuracy: 0.8973 - val_loss: 0.2760\n",
            "Epoch 7/10\n",
            "\u001b[1m613/613\u001b[0m \u001b[32m━━━━━━━━━━━━━━━━━━━━\u001b[0m\u001b[37m\u001b[0m \u001b[1m44s\u001b[0m 57ms/step - accuracy: 0.9205 - loss: 0.2184 - val_accuracy: 0.8959 - val_loss: 0.2944\n",
            "Epoch 8/10\n",
            "\u001b[1m613/613\u001b[0m \u001b[32m━━━━━━━━━━━━━━━━━━━━\u001b[0m\u001b[37m\u001b[0m \u001b[1m39s\u001b[0m 55ms/step - accuracy: 0.9270 - loss: 0.2004 - val_accuracy: 0.9056 - val_loss: 0.2628\n",
            "Epoch 9/10\n",
            "\u001b[1m613/613\u001b[0m \u001b[32m━━━━━━━━━━━━━━━━━━━━\u001b[0m\u001b[37m\u001b[0m \u001b[1m32s\u001b[0m 52ms/step - accuracy: 0.9341 - loss: 0.1784 - val_accuracy: 0.9058 - val_loss: 0.2740\n",
            "Epoch 10/10\n",
            "\u001b[1m613/613\u001b[0m \u001b[32m━━━━━━━━━━━━━━━━━━━━\u001b[0m\u001b[37m\u001b[0m \u001b[1m44s\u001b[0m 57ms/step - accuracy: 0.9413 - loss: 0.1668 - val_accuracy: 0.9073 - val_loss: 0.2685\n",
            "\u001b[1m657/657\u001b[0m \u001b[32m━━━━━━━━━━━━━━━━━━━━\u001b[0m\u001b[37m\u001b[0m \u001b[1m6s\u001b[0m 9ms/step\n"
          ]
        }
      ],
      "source": [
        "from tensorflow.keras import layers,models\n",
        "from sklearn.svm import SVC\n",
        "from sklearn.ensemble import RandomForestClassifier\n",
        "def build_cnn():\n",
        "  model=models.Sequential([\n",
        "      layers.Conv2D(32,(3,3),activation='relu',input_shape=(28,28,1)),\n",
        "      layers.MaxPooling2D((2,2)),\n",
        "      layers.Conv2D(64,(3,3),activation='relu'),\n",
        "      layers.MaxPooling2D((2,2)),\n",
        "      layers.Flatten(),\n",
        "      layers.Dense(64,activation='relu'),\n",
        "      layers.Dense(10,activation='softmax')\n",
        "      ])\n",
        "  model.compile(optimizer='adam',loss='sparse_categorical_crossentropy',metrics=['accuracy'])\n",
        "  return model\n",
        "skcnn=build_cnn()\n",
        "skcnn.fit(X_train,y_train,epochs=10,validation_split=0.2,batch_size=64)\n",
        "skcnn_preds=skcnn.predict(X_test)\n",
        "skcnn_preds_classes=sk.argmax(skcnn_preds,axis=1)\n",
        "\n",
        "skX_train_flat=X_train.reshape(-1,28*28)\n",
        "skX_test_flat=X_test.reshape(-1,28*28)\n",
        "skscaler=StandardScaler()\n",
        "skX_train_scaled=skscaler.fit_transform(skX_train_flat)\n",
        "skX_test_scaled=skscaler.transform(skX_test_flat)\n",
        "\n",
        "sksvm=SVC(kernel='rbf',probability=True)\n",
        "sksvm.fit(skX_train_scaled,y_train)\n",
        "sksvm_preds_proba=sksvm.predict_proba(skX_test_scaled)\n",
        "sksvm_preds=sksvm.predict(skX_test_scaled)\n",
        "\n",
        "skrf=RandomForestClassifier(n_estimators=100)\n",
        "skrf.fit(skX_train_flat,y_train)\n",
        "skrf_preds_proba=skrf.predict_proba(skX_test_flat)\n",
        "skrf_preds=skrf.predict(skX_test_flat)\n",
        "\n",
        "skensemble_proba=(sksvm_preds_proba+skrf_preds_proba+skcnn_preds)/3\n",
        "skensemble_preds=sk.argmax(skensemble_proba,axis=1)\n"
      ]
    },
    {
      "cell_type": "markdown",
      "source": [
        "**Step - 3 - Evaluation**"
      ],
      "metadata": {
        "id": "NGdaOtyfXQHa"
      }
    },
    {
      "cell_type": "code",
      "execution_count": null,
      "metadata": {
        "id": "kDYvqeV2YhXz",
        "colab": {
          "base_uri": "https://localhost:8080/"
        },
        "outputId": "7952222c-f19d-4d84-f6fb-98ffcd1445d4"
      },
      "outputs": [
        {
          "output_type": "stream",
          "name": "stdout",
          "text": [
            "\n",
            "CNN Evaluation:\n",
            "Accuracy: 0.9078095238095238\n",
            "Precision: 0.9089163327295683\n",
            "Recall: 0.9078095238095238\n",
            "F1 Score: 0.9079932595034714\n",
            "\n",
            "SVM Evaluation:\n",
            "Accuracy: 0.8917619047619048\n",
            "Precision: 0.8909199440577197\n",
            "Recall: 0.8917619047619048\n",
            "F1 Score: 0.8910984346128933\n",
            "\n",
            "Random Forest Evaluation:\n",
            "Accuracy: 0.8841428571428571\n",
            "Precision: 0.8828581146035642\n",
            "Recall: 0.8841428571428571\n",
            "F1 Score: 0.8828232772080516\n",
            "\n",
            "Ensemble Evaluation:\n",
            "Accuracy: 0.9120952380952381\n",
            "Precision: 0.9116952149682691\n",
            "Recall: 0.9120952380952381\n",
            "F1 Score: 0.9117702477060698\n"
          ]
        }
      ],
      "source": [
        "from sklearn.metrics import accuracy_score, precision_score, recall_score, f1_score\n",
        "def evaluate_model(name,y_true,y_pred):\n",
        "  print(f\"\\n{name} Evaluation:\")\n",
        "  print(\"Accuracy:\",accuracy_score(y_true,y_pred))\n",
        "  print(\"Precision:\",precision_score(y_true,y_pred,average='weighted'))\n",
        "  print(\"Recall:\",recall_score(y_true,y_pred,average='weighted'))\n",
        "  print(\"F1 Score:\",f1_score(y_true,y_pred,average='weighted'))\n",
        "evaluate_model(\"CNN\",y_test,skcnn_preds_classes)\n",
        "evaluate_model(\"SVM\",y_test,sksvm_preds)\n",
        "evaluate_model(\"Random Forest\",y_test,skrf_preds)\n",
        "evaluate_model(\"Ensemble\",y_test,skensemble_preds)"
      ]
    }
  ],
  "metadata": {
    "colab": {
      "provenance": []
    },
    "kernelspec": {
      "display_name": "Python 3",
      "name": "python3"
    },
    "language_info": {
      "name": "python"
    }
  },
  "nbformat": 4,
  "nbformat_minor": 0
}